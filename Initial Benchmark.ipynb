{
 "cells": [
  {
   "cell_type": "markdown",
   "metadata": {},
   "source": [
    "# Inital Benchmark\n",
    "\n",
    "The purpose of the work on the MNIST dataset is simply to learn how to implement a few new concepts with image analysis and to get a bit more experience developing models with images.\n",
    "\n",
    "This notebook is designed to get an initial benchmark and feel for the data with a basic CNN.  \n",
    "\n",
    "Sources\n",
    "1. https://www.kaggle.com/adityaecdrid/mnist-with-keras-for-beginners-99457\n",
    "2. https://www.kaggle.com/toregil/welcome-to-deep-learning-cnn-99/notebook\n"
   ]
  },
  {
   "cell_type": "code",
   "execution_count": 2,
   "metadata": {},
   "outputs": [],
   "source": [
    "#First importing some relevant packages\n",
    "import numpy as np\n",
    "import pandas as pd\n",
    "\n",
    "#Import Tensorflow\n",
    "import tensorflow as tf\n",
    "\n",
    "#Import Keras\n",
    "import keras\n",
    "from keras import layers\n",
    "from keras.layers import Dense, Dropout, Flatten, Conv2D, MaxPool2D, BatchNormalization, Input, Activation, ZeroPadding2D\n",
    "#from keras.layers.advanced_activations import LeakyReLU, PReLU\n",
    "from keras.models import Sequential, Model\n",
    "from keras import regularizers\n",
    "from keras.optimizers import Adam\n",
    "from keras.preprocessing.image import ImageDataGenerator\n",
    "from keras.callbacks import LearningRateScheduler\n",
    "from keras.utils.np_utils import to_categorical\n",
    "from keras.models import load_model\n",
    "\n",
    "#Import general utilities\n",
    "import os\n",
    "import gc\n",
    "import pickle\n",
    "import itertools\n",
    "\n",
    "#import sklearn\n",
    "import sklearn as sk\n",
    "from sklearn.model_selection import train_test_split\n",
    "from sklearn.metrics import confusion_matrix\n",
    "\n",
    "skl_seed = 1234\n",
    "\n",
    "#Import mathematical functions\n",
    "from random import *\n",
    "import math\n",
    "import matplotlib\n",
    "import matplotlib.pyplot as plt"
   ]
  },
  {
   "cell_type": "code",
   "execution_count": 3,
   "metadata": {},
   "outputs": [],
   "source": [
    "DATA_FOLDER = 'D:/Datasets/MNIST/'\n",
    "GENERATED_FOLDER = 'D:/Datasets/MNIST/modeldata/'"
   ]
  },
  {
   "cell_type": "code",
   "execution_count": 4,
   "metadata": {},
   "outputs": [],
   "source": [
    "train = pd.read_csv(os.path.join(DATA_FOLDER, 'train.csv'))\n",
    "X_test = pd.read_csv(os.path.join(DATA_FOLDER, 'test.csv'))"
   ]
  },
  {
   "cell_type": "markdown",
   "metadata": {},
   "source": [
    "First do some simple image reshaping and normalization.  This is a very well known dataset so I already know its 10 class multiclass classification with no missing data and pixel intensity values of 0-256, hence extensive EDA is unnecessary.\n",
    "\n",
    "The only thing I'm doing here is reshaping the images into 4 dimensions as opposed to 3.  This is simply to allow for general n channel models to be used on this data (i.e. keras models)."
   ]
  },
  {
   "cell_type": "code",
   "execution_count": 5,
   "metadata": {},
   "outputs": [
    {
     "data": {
      "text/plain": [
       "7"
      ]
     },
     "execution_count": 5,
     "metadata": {},
     "output_type": "execute_result"
    }
   ],
   "source": [
    "Y_full = train[\"label\"]\n",
    "\n",
    "# Drop 'label' column\n",
    "X_full = train.drop(labels = [\"label\"],axis = 1) \n",
    "\n",
    "# Normalize the data\n",
    "X_full = X_full / 255.0\n",
    "X_test = X_test / 255.0\n",
    "\n",
    "# Reshape image in 4 dimensions (height = 28px, width = 28px , canal = 1)\n",
    "X_full = X_full.values.reshape(-1,28,28,1)\n",
    "X_test = X_test.values.reshape(-1,28,28,1)\n",
    "\n",
    "del train\n",
    "\n",
    "gc.collect()"
   ]
  },
  {
   "cell_type": "markdown",
   "metadata": {},
   "source": [
    "Let's take a look at a few images to make sure they make sense."
   ]
  },
  {
   "cell_type": "code",
   "execution_count": 5,
   "metadata": {},
   "outputs": [
    {
     "data": {
      "image/png": "[encoded data removed]",
      "text/plain": [
       "<Figure size 1080x1080 with 5 Axes>"
      ]
     },
     "metadata": {},
     "output_type": "display_data"
    }
   ],
   "source": [
    "#Observe the data\n",
    "fig, ax = plt.subplots(1, 5,sharex=True,sharey=True, figsize=(15,15))\n",
    "for i in range(5):\n",
    "    ax[i].imshow(X_full[i][:,:,0], cmap='gray')\n",
    "    ax[i].set_title(\"Label :{}\\n \".format(Y_full[i]))"
   ]
  },
  {
   "cell_type": "markdown",
   "metadata": {},
   "source": [
    "Double check that the classes are somewhat balanced in the training set."
   ]
  },
  {
   "cell_type": "code",
   "execution_count": 6,
   "metadata": {},
   "outputs": [
    {
     "data": {
      "text/plain": [
       "10"
      ]
     },
     "execution_count": 6,
     "metadata": {},
     "output_type": "execute_result"
    }
   ],
   "source": [
    "Y_full.nunique()"
   ]
  },
  {
   "cell_type": "code",
   "execution_count": 7,
   "metadata": {},
   "outputs": [
    {
     "data": {
      "image/png": "[encoded data removed]",
      "text/plain": [
       "<Figure size 432x288 with 1 Axes>"
      ]
     },
     "metadata": {},
     "output_type": "display_data"
    }
   ],
   "source": [
    "plt.bar(range(10),  Y_full.value_counts(sort=False))\n",
    "plt.ylabel('Count')\n",
    "plt.xlabel('Label')\n",
    "plt.title(\"Counts of each class\")\n",
    "plt.show()"
   ]
  },
  {
   "cell_type": "markdown",
   "metadata": {},
   "source": [
    "Now if this was a real competition I would use a k-fold validation scheme and average over each of the k folds for each model trained, however this is not really necessary for this project due to this only being a benchmarking ground for learning some new concepts.\n",
    "\n",
    "Next lets split our data into training and validation sets."
   ]
  },
  {
   "cell_type": "code",
   "execution_count": 8,
   "metadata": {},
   "outputs": [
    {
     "name": "stdout",
     "output_type": "stream",
     "text": [
      "X_Train shape :  (37800, 28, 28, 1)\n",
      "Y_Train shape :  (37800,)\n"
     ]
    }
   ],
   "source": [
    "X_Train, X_Val, Y_Train, Y_Val = train_test_split(X_full, Y_full, test_size=0.1)\n",
    "\n",
    "print('X_Train shape : ', X_Train.shape)\n",
    "print('Y_Train shape : ', Y_Train.shape)"
   ]
  },
  {
   "cell_type": "markdown",
   "metadata": {},
   "source": [
    "Next let's setup data augmentation and reshape the Y vectors to One Hot encodings."
   ]
  },
  {
   "cell_type": "code",
   "execution_count": 9,
   "metadata": {},
   "outputs": [
    {
     "name": "stdout",
     "output_type": "stream",
     "text": [
      "[0. 1. 0. 0. 0. 0. 0. 0. 0. 0.]\n"
     ]
    }
   ],
   "source": [
    "#Setup data augmentation\n",
    "datagen = ImageDataGenerator(zoom_range = 0.1,\n",
    "                            height_shift_range = 0.1,\n",
    "                            width_shift_range = 0.1,\n",
    "                            rotation_range = 10)\n",
    "\n",
    "#Convert Y vectors to categoricals\n",
    "Y_Train = to_categorical(Y_Train)\n",
    "Y_Val = to_categorical(Y_Val)\n",
    "\n",
    "print(Y_Train[1])"
   ]
  },
  {
   "cell_type": "markdown",
   "metadata": {},
   "source": [
    "Now to setup our model.  For a first simple convnet I will use a very basic feedforward convnet with batch normalization and dropout layers.  For now I will not use any residual or inception blocks."
   ]
  },
  {
   "cell_type": "code",
   "execution_count": 16,
   "metadata": {},
   "outputs": [],
   "source": [
    "def SimpleModel():\n",
    "    #Input layer\n",
    "    X_input = Input((28,28,1))\n",
    "    \n",
    "    X = ZeroPadding2D((3, 3))(X_input)\n",
    "\n",
    "    # CONV Block applied to X\n",
    "    #X = Conv2D(32, (7, 7), strides = (1, 1), activation='relu', kernel_regularizer=\"l2\")(X_input)\n",
    "    X = Conv2D(32, (7, 7), strides = (1, 1), activation='relu')(X)\n",
    "    X = BatchNormalization()(X)\n",
    "    #X = Activation('relu')(X)\n",
    "    X = MaxPool2D()(X)\n",
    "    X = Dropout(0.25)(X)\n",
    "    \n",
    "    \n",
    "    #X = Conv2D(64, (5, 5), strides = (1, 1), activation='relu', kernel_regularizer=\"l2\")(X)\n",
    "    X = Conv2D(64, (5, 5), strides = (1, 1), activation='relu')(X)\n",
    "    X = BatchNormalization()(X)\n",
    "    #X = Activation('relu')(X)\n",
    "    X = MaxPool2D()(X)\n",
    "    X = Dropout(0.25)(X)\n",
    "\n",
    "    \n",
    "    X = Conv2D(128, (3, 3), strides = (1, 1),activation='relu')(X)\n",
    "    #X = Conv2D(128, (3, 3), strides = (1, 1),activation='relu',  kernel_regularizer=\"l2\")(X)\n",
    "    #X = BatchNormalization()(X)\n",
    "    #X = Activation('relu')(X)\n",
    "    #X = Dropout(0.25)(X)\n",
    "    \n",
    "    # MAXPOOL\n",
    "    #X = MaxPooling2D((3, 3))(X)\n",
    "\n",
    "    #Convert to vector for final dense layers\n",
    "    X = Flatten()(X)\n",
    "    \n",
    "    #Adding final dense layers\n",
    "    X = Dense(256, activation='sigmoid')(X)\n",
    "    X = Dropout(0.25)(X)\n",
    "    \n",
    "    \n",
    "    X = Dense(512, activation='sigmoid')(X)\n",
    "    X = Dropout(0.5)(X)\n",
    "    \n",
    "    X = Dense(10, activation='softmax')(X)\n",
    "\n",
    "    # Create model\n",
    "    model = Model(inputs = X_input, outputs = X)\n",
    "\n",
    "    \n",
    "    return model"
   ]
  },
  {
   "cell_type": "markdown",
   "metadata": {},
   "source": [
    "Now to definine the training metrics and instanciate."
   ]
  },
  {
   "cell_type": "code",
   "execution_count": 17,
   "metadata": {},
   "outputs": [],
   "source": [
    "start_LR = 0.001\n",
    "LR_Decay = 0.95\n",
    "\n",
    "LR_Decayer = LearningRateScheduler(lambda x: start_LR * LR_Decay ** x)"
   ]
  },
  {
   "cell_type": "code",
   "execution_count": 18,
   "metadata": {},
   "outputs": [],
   "source": [
    "simp_mod = SimpleModel()\n",
    "simp_mod.compile(optimizer = Adam(start_LR), loss = \"binary_crossentropy\", metrics = [\"accuracy\"])"
   ]
  },
  {
   "cell_type": "code",
   "execution_count": 19,
   "metadata": {},
   "outputs": [
    {
     "name": "stdout",
     "output_type": "stream",
     "text": [
      "Epoch 1/20\n",
      "500/500 [==============================] - 20s 40ms/step - loss: 0.1599 - acc: 0.9459 - val_loss: 0.0436 - val_acc: 0.9853\n",
      "Epoch 2/20\n",
      "500/500 [==============================] - 20s 39ms/step - loss: 0.0555 - acc: 0.9816 - val_loss: 0.0302 - val_acc: 0.9923\n",
      "Epoch 3/20\n",
      "500/500 [==============================] - 18s 37ms/step - loss: 0.0386 - acc: 0.9871 - val_loss: 0.0197 - val_acc: 0.9933\n",
      "Epoch 4/20\n",
      "500/500 [==============================] - 19s 38ms/step - loss: 0.0337 - acc: 0.9889 - val_loss: 0.0339 - val_acc: 0.9923\n",
      "Epoch 5/20\n",
      "500/500 [==============================] - 19s 37ms/step - loss: 0.0305 - acc: 0.9894 - val_loss: 0.0129 - val_acc: 0.9953\n",
      "Epoch 6/20\n",
      "500/500 [==============================] - 18s 36ms/step - loss: 0.0230 - acc: 0.9931 - val_loss: 0.0116 - val_acc: 0.9950\n",
      "Epoch 7/20\n",
      "500/500 [==============================] - 18s 36ms/step - loss: 0.0250 - acc: 0.9920 - val_loss: 0.0146 - val_acc: 0.9955\n",
      "Epoch 8/20\n",
      "500/500 [==============================] - 18s 36ms/step - loss: 0.0268 - acc: 0.9915 - val_loss: 0.0138 - val_acc: 0.9938\n",
      "Epoch 9/20\n",
      "500/500 [==============================] - 18s 36ms/step - loss: 0.0222 - acc: 0.9933 - val_loss: 0.0084 - val_acc: 0.9970\n",
      "Epoch 10/20\n",
      "500/500 [==============================] - 18s 36ms/step - loss: 0.0199 - acc: 0.9938 - val_loss: 0.0065 - val_acc: 0.9978\n",
      "Epoch 11/20\n",
      "500/500 [==============================] - 18s 36ms/step - loss: 0.0186 - acc: 0.9938 - val_loss: 0.0079 - val_acc: 0.9973\n",
      "Epoch 12/20\n",
      "500/500 [==============================] - 21s 41ms/step - loss: 0.0166 - acc: 0.9951 - val_loss: 0.0226 - val_acc: 0.9913\n",
      "Epoch 13/20\n",
      "500/500 [==============================] - 20s 40ms/step - loss: 0.0184 - acc: 0.9941 - val_loss: 0.0159 - val_acc: 0.9948\n",
      "Epoch 14/20\n",
      "500/500 [==============================] - 20s 39ms/step - loss: 0.0176 - acc: 0.9950 - val_loss: 0.0103 - val_acc: 0.9955\n",
      "Epoch 15/20\n",
      "500/500 [==============================] - 20s 39ms/step - loss: 0.0149 - acc: 0.9955 - val_loss: 0.0074 - val_acc: 0.9975\n",
      "Epoch 16/20\n",
      "500/500 [==============================] - 20s 40ms/step - loss: 0.0154 - acc: 0.9949 - val_loss: 0.0107 - val_acc: 0.9973\n",
      "Epoch 17/20\n",
      "500/500 [==============================] - 20s 39ms/step - loss: 0.0146 - acc: 0.9955 - val_loss: 0.0073 - val_acc: 0.9975\n",
      "Epoch 18/20\n",
      "500/500 [==============================] - 19s 37ms/step - loss: 0.0146 - acc: 0.9958 - val_loss: 0.0086 - val_acc: 0.9983\n",
      "Epoch 19/20\n",
      "500/500 [==============================] - 20s 40ms/step - loss: 0.0109 - acc: 0.9963 - val_loss: 0.0057 - val_acc: 0.9985\n",
      "Epoch 20/20\n",
      "500/500 [==============================] - 20s 39ms/step - loss: 0.0149 - acc: 0.9955 - val_loss: 0.0128 - val_acc: 0.9960\n"
     ]
    }
   ],
   "source": [
    "hist = simp_mod.fit_generator(datagen.flow(X_Train, Y_Train, batch_size=8),\n",
    "                           steps_per_epoch=500,\n",
    "                           epochs=20,\n",
    "                           verbose=1,  #1 for ETA, 0 for silent\n",
    "                           validation_data=(X_Val[:400,:], Y_Val[:400,:]),\n",
    "                           callbacks=[LR_Decayer])"
   ]
  },
  {
   "cell_type": "markdown",
   "metadata": {},
   "source": [
    "So now the model is trained let's save it for easy recovery and compute some basic stats."
   ]
  },
  {
   "cell_type": "code",
   "execution_count": 7,
   "metadata": {},
   "outputs": [],
   "source": [
    "#Save model\n",
    "simp_mod.save(os.path.join(GENERATED_FOLDER, 'simple_test.pickle'))\n",
    "\n",
    "#Load model\n",
    "#simp_mod = load_model(os.path.join(GENERATED_FOLDER, 'simple_test.pickle'))"
   ]
  },
  {
   "cell_type": "code",
   "execution_count": 22,
   "metadata": {},
   "outputs": [],
   "source": [
    "final_loss, final_acc = simp_mod.evaluate(X_Val, Y_Val, verbose=0)"
   ]
  },
  {
   "cell_type": "code",
   "execution_count": 23,
   "metadata": {},
   "outputs": [
    {
     "name": "stdout",
     "output_type": "stream",
     "text": [
      "Final Validation Loss =  0.006845595737270612\n",
      "Final Validation Accuracy =  0.9977142810821533\n"
     ]
    }
   ],
   "source": [
    "print('Final Validation Loss = ', final_loss)\n",
    "print('Final Validation Accuracy = ', final_acc)"
   ]
  },
  {
   "cell_type": "markdown",
   "metadata": {},
   "source": [
    "Next let's get the predictions and plot a confusion matrix for the validation set."
   ]
  },
  {
   "cell_type": "code",
   "execution_count": 35,
   "metadata": {},
   "outputs": [],
   "source": [
    "Y_hat_val = simp_mod.predict(X_Val)"
   ]
  },
  {
   "cell_type": "code",
   "execution_count": 36,
   "metadata": {},
   "outputs": [],
   "source": [
    "# Convert predictions classes to one hot vectors \n",
    "Y_hat_classes = np.argmax(Y_hat_val, axis = 1) \n",
    "# Convert validation observations to one hot vectors\n",
    "Y_val_classes = np.argmax(Y_Val, axis = 1) "
   ]
  },
  {
   "cell_type": "code",
   "execution_count": 46,
   "metadata": {},
   "outputs": [
    {
     "data": {
      "image/png": "[encoded data removed]",
      "text/plain": [
       "<Figure size 432x288 with 2 Axes>"
      ]
     },
     "metadata": {},
     "output_type": "display_data"
    }
   ],
   "source": [
    "#This code taken almost direct from a source, who attained it from SK Learn website\n",
    "def plot_confusion_matrix(cm, classes,\n",
    "                          normalize=False,\n",
    "                          title='Confusion matrix',\n",
    "                          cmap=plt.cm.Blues):\n",
    "    \"\"\"\n",
    "    This function prints and plots the confusion matrix.\n",
    "    Normalization can be applied by setting `normalize=True`.\n",
    "    \"\"\"\n",
    "    plt.imshow(cm, interpolation='nearest', cmap=cmap)\n",
    "    plt.title(title)\n",
    "    plt.colorbar()\n",
    "    tick_marks = np.arange(len(classes))\n",
    "    plt.xticks(tick_marks, classes, rotation=45)\n",
    "    plt.yticks(tick_marks, classes)\n",
    "\n",
    "    if normalize:\n",
    "        cm = cm.astype('float') / cm.sum(axis=1)[:, np.newaxis]\n",
    "\n",
    "    thresh = cm.max() / 2.\n",
    "    for i, j in itertools.product(range(cm.shape[0]), range(cm.shape[1])):\n",
    "        plt.text(j, i, cm[i, j],\n",
    "                 horizontalalignment=\"center\",\n",
    "                 color=\"white\" if cm[i, j] > thresh else \"black\")\n",
    "\n",
    "    plt.tight_layout()\n",
    "    plt.ylabel('True label')\n",
    "    plt.xlabel('Predicted label')\n",
    "\n",
    "    \n",
    "# compute the confusion matrix\n",
    "confusion_mtx = confusion_matrix(Y_val_classes, Y_hat_classes) \n",
    "# plot the confusion matrix\n",
    "plot_confusion_matrix(confusion_mtx, classes = range(10))"
   ]
  },
  {
   "cell_type": "markdown",
   "metadata": {},
   "source": [
    "Next let's have a look at some of the errors."
   ]
  },
  {
   "cell_type": "code",
   "execution_count": 66,
   "metadata": {},
   "outputs": [
    {
     "data": {
      "image/png": "[encoded data removed]",
      "text/plain": [
       "<Figure size 1080x1080 with 6 Axes>"
      ]
     },
     "metadata": {},
     "output_type": "display_data"
    }
   ],
   "source": [
    "# Display some error results - Code courtesy of aditya soni- Very useful error displayer\n",
    "\n",
    "# Errors are difference Y_val_classes predicted labels and true labels\n",
    "errors = (Y_hat_classes - Y_val_classes != 0)\n",
    "\n",
    "Y_pred_classes_errors = Y_pred_classes[errors]\n",
    "Y_pred_errors = Y_hat_val[errors]\n",
    "Y_true_errors = Y_val_classes[errors]\n",
    "X_val_errors = X_Val[errors]\n",
    "\n",
    "def display_errors(errors_index,img_errors,pred_errors, obs_errors):\n",
    "    \"\"\" This function shows 6 images with their predicted and real labels\"\"\"\n",
    "    n = 0\n",
    "    nrows = 2\n",
    "    ncols = 3\n",
    "    fig, ax = plt.subplots(nrows,ncols,sharex=True,sharey=True, figsize=(15,15))\n",
    "    for row in range(nrows):\n",
    "        for col in range(ncols):\n",
    "            error = errors_index[n]\n",
    "            ax[row,col].imshow((img_errors[error]).reshape((28,28)))\n",
    "            ax[row,col].set_title(\"Predicted label :{}\\nTrue label :{}\".format(pred_errors[error],obs_errors[error]))\n",
    "            n += 1\n",
    "\n",
    "# Probabilities of the wrong predicted numbers\n",
    "Y_pred_errors_prob = np.max(Y_pred_errors,axis = 1)\n",
    "\n",
    "# Predicted probabilities of the true values in the error set\n",
    "true_prob_errors = np.diagonal(np.take(Y_pred_errors, Y_true_errors, axis=1))\n",
    "\n",
    "# Difference between the probability of the predicted label and the true label\n",
    "delta_pred_true_errors = Y_pred_errors_prob - true_prob_errors\n",
    "\n",
    "# Sorted list of the delta prob errors\n",
    "sorted_dela_errors = np.argsort(delta_pred_true_errors)\n",
    "\n",
    "# Top 6 errors \n",
    "most_important_errors = sorted_dela_errors[-6:]\n",
    "\n",
    "# Show the top 6 errors\n",
    "display_errors(most_important_errors, X_val_errors, Y_pred_classes_errors, Y_true_errors)"
   ]
  },
  {
   "cell_type": "markdown",
   "metadata": {},
   "source": [
    "As a test model this actually worked better than expected.  Let's submit and see how the submission files are formated."
   ]
  },
  {
   "cell_type": "code",
   "execution_count": 17,
   "metadata": {},
   "outputs": [],
   "source": [
    "sample_sub = pd.read_csv(os.path.join(DATA_FOLDER, 'sample_submission.csv'))"
   ]
  },
  {
   "cell_type": "code",
   "execution_count": 16,
   "metadata": {},
   "outputs": [],
   "source": [
    "y_out = simp_mod.predict(X_test)"
   ]
  },
  {
   "cell_type": "code",
   "execution_count": 24,
   "metadata": {},
   "outputs": [],
   "source": [
    "Y_out_classes = np.argmax(y_out, axis = 1) "
   ]
  },
  {
   "cell_type": "code",
   "execution_count": 18,
   "metadata": {},
   "outputs": [
    {
     "data": {
      "text/html": [
       "<div>\n",
       "<style scoped>\n",
       "    .dataframe tbody tr th:only-of-type {\n",
       "        vertical-align: middle;\n",
       "    }\n",
       "\n",
       "    .dataframe tbody tr th {\n",
       "        vertical-align: top;\n",
       "    }\n",
       "\n",
       "    .dataframe thead th {\n",
       "        text-align: right;\n",
       "    }\n",
       "</style>\n",
       "<table border=\"1\" class=\"dataframe\">\n",
       "  <thead>\n",
       "    <tr style=\"text-align: right;\">\n",
       "      <th></th>\n",
       "      <th>ImageId</th>\n",
       "      <th>Label</th>\n",
       "    </tr>\n",
       "  </thead>\n",
       "  <tbody>\n",
       "    <tr>\n",
       "      <th>0</th>\n",
       "      <td>1</td>\n",
       "      <td>0</td>\n",
       "    </tr>\n",
       "    <tr>\n",
       "      <th>1</th>\n",
       "      <td>2</td>\n",
       "      <td>0</td>\n",
       "    </tr>\n",
       "    <tr>\n",
       "      <th>2</th>\n",
       "      <td>3</td>\n",
       "      <td>0</td>\n",
       "    </tr>\n",
       "    <tr>\n",
       "      <th>3</th>\n",
       "      <td>4</td>\n",
       "      <td>0</td>\n",
       "    </tr>\n",
       "    <tr>\n",
       "      <th>4</th>\n",
       "      <td>5</td>\n",
       "      <td>0</td>\n",
       "    </tr>\n",
       "    <tr>\n",
       "      <th>5</th>\n",
       "      <td>6</td>\n",
       "      <td>0</td>\n",
       "    </tr>\n",
       "    <tr>\n",
       "      <th>6</th>\n",
       "      <td>7</td>\n",
       "      <td>0</td>\n",
       "    </tr>\n",
       "    <tr>\n",
       "      <th>7</th>\n",
       "      <td>8</td>\n",
       "      <td>0</td>\n",
       "    </tr>\n",
       "    <tr>\n",
       "      <th>8</th>\n",
       "      <td>9</td>\n",
       "      <td>0</td>\n",
       "    </tr>\n",
       "    <tr>\n",
       "      <th>9</th>\n",
       "      <td>10</td>\n",
       "      <td>0</td>\n",
       "    </tr>\n",
       "  </tbody>\n",
       "</table>\n",
       "</div>"
      ],
      "text/plain": [
       "   ImageId  Label\n",
       "0        1      0\n",
       "1        2      0\n",
       "2        3      0\n",
       "3        4      0\n",
       "4        5      0\n",
       "5        6      0\n",
       "6        7      0\n",
       "7        8      0\n",
       "8        9      0\n",
       "9       10      0"
      ]
     },
     "execution_count": 18,
     "metadata": {},
     "output_type": "execute_result"
    }
   ],
   "source": [
    "sample_sub.head(10)"
   ]
  },
  {
   "cell_type": "code",
   "execution_count": 26,
   "metadata": {},
   "outputs": [],
   "source": [
    "sample_sub['Label'] = Y_out_classes"
   ]
  },
  {
   "cell_type": "code",
   "execution_count": 21,
   "metadata": {},
   "outputs": [],
   "source": [
    "sample_sub.to_csv('test_mnist_sub.csv', index=False)"
   ]
  },
  {
   "cell_type": "markdown",
   "metadata": {},
   "source": [
    "Well that about covers the basics. \n",
    "\n",
    "However for a first submission the public score I achieved was 98.7%, which given that this model was trained on a tiny subset of the full training set trained for about 20 minutes on CPUs this indicates that this competition may not be great for benchmarking deeper models as it is incredibly easy to learn.\n",
    "\n",
    "With more training time on GPUs even this model is likely to achieve 99%+ accuracy.\n",
    "\n",
    "However this will allow me to very quickly and efficiently determine if a neural architecture is poor as if it cannot learn this very simple dataset then it is likely not going to be very useful."
   ]
  },
  {
   "cell_type": "code",
   "execution_count": null,
   "metadata": {},
   "outputs": [],
   "source": []
  }
 ],
 "metadata": {
  "kernelspec": {
   "display_name": "Python 3",
   "language": "python",
   "name": "python3"
  },
  "language_info": {
   "codemirror_mode": {
    "name": "ipython",
    "version": 3
   },
   "file_extension": ".py",
   "mimetype": "text/x-python",
   "name": "python",
   "nbconvert_exporter": "python",
   "pygments_lexer": "ipython3",
   "version": "3.6.6"
  }
 },
 "nbformat": 4,
 "nbformat_minor": 2
}
