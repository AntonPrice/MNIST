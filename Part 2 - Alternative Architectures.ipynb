{
 "cells": [
  {
   "cell_type": "markdown",
   "metadata": {},
   "source": [
    "# Part 2 - Alternative Architectures\n",
    "\n",
    "The purpose of this notebook is to expand upon the first notebook and build some newer style CNN architectures - specifically Residual Blocks and Inception Blocks.\n",
    "\n",
    "This will be using basically the same code structure as the previous notebook just with different architectures swapped in."
   ]
  },
  {
   "cell_type": "code",
   "execution_count": 7,
   "metadata": {},
   "outputs": [],
   "source": [
    "#First importing some relevant packages\n",
    "import numpy as np\n",
    "import pandas as pd\n",
    "\n",
    "#Import Tensorflow\n",
    "import tensorflow as tf\n",
    "\n",
    "#Import Keras\n",
    "import keras\n",
    "from keras import layers\n",
    "from keras.layers import Activation, ZeroPadding2D, AveragePooling2D, Add, Concatenate\n",
    "from keras.layers import Dense, Dropout, Flatten, Conv2D, MaxPool2D, BatchNormalization, Input\n",
    "#from keras.layers.advanced_activations import LeakyReLU, PReLU\n",
    "from keras.models import Sequential, Model\n",
    "from keras import regularizers\n",
    "from keras.optimizers import Adam\n",
    "from keras.preprocessing.image import ImageDataGenerator\n",
    "from keras.callbacks import LearningRateScheduler\n",
    "from keras.utils.np_utils import to_categorical\n",
    "from keras.models import load_model\n",
    "from keras.initializers import glorot_uniform\n",
    "\n",
    "\n",
    "#Import general utilities\n",
    "import os\n",
    "import gc\n",
    "import pickle\n",
    "import itertools\n",
    "\n",
    "#import sklearn\n",
    "import sklearn as sk\n",
    "from sklearn.model_selection import train_test_split\n",
    "from sklearn.metrics import confusion_matrix\n",
    "\n",
    "#Import mathematical functions\n",
    "from random import *\n",
    "import math\n",
    "import matplotlib\n",
    "import matplotlib.pyplot as plt"
   ]
  },
  {
   "cell_type": "code",
   "execution_count": 2,
   "metadata": {},
   "outputs": [],
   "source": [
    "DATA_FOLDER = 'D:/Datasets/MNIST/'\n",
    "GENERATED_FOLDER = 'D:/Datasets/MNIST/modeldata/'"
   ]
  },
  {
   "cell_type": "code",
   "execution_count": 3,
   "metadata": {},
   "outputs": [],
   "source": [
    "train = pd.read_csv(os.path.join(DATA_FOLDER, 'train.csv'))\n",
    "X_test = pd.read_csv(os.path.join(DATA_FOLDER, 'test.csv'))"
   ]
  },
  {
   "cell_type": "code",
   "execution_count": 4,
   "metadata": {},
   "outputs": [
    {
     "data": {
      "text/plain": [
       "14"
      ]
     },
     "execution_count": 4,
     "metadata": {},
     "output_type": "execute_result"
    }
   ],
   "source": [
    "Y_full = train[\"label\"]\n",
    "\n",
    "# Drop 'label' column\n",
    "X_full = train.drop(labels = [\"label\"],axis = 1) \n",
    "\n",
    "# Normalize the data\n",
    "X_full = X_full / 255.0\n",
    "X_test = X_test / 255.0\n",
    "\n",
    "# Reshape image in 4 dimensions (height = 28px, width = 28px , canal = 1)\n",
    "X_full = X_full.values.reshape(-1,28,28,1)\n",
    "X_test = X_test.values.reshape(-1,28,28,1)\n",
    "\n",
    "del train\n",
    "\n",
    "gc.collect()"
   ]
  },
  {
   "cell_type": "code",
   "execution_count": 5,
   "metadata": {},
   "outputs": [],
   "source": [
    "X_Train, X_Val, Y_Train, Y_Val = train_test_split(X_full, Y_full, test_size=0.1)"
   ]
  },
  {
   "cell_type": "code",
   "execution_count": 6,
   "metadata": {},
   "outputs": [
    {
     "name": "stdout",
     "output_type": "stream",
     "text": [
      "[1. 0. 0. 0. 0. 0. 0. 0. 0. 0.]\n"
     ]
    }
   ],
   "source": [
    "#Setup data augmentation\n",
    "datagen = ImageDataGenerator(zoom_range = 0.1,\n",
    "                            height_shift_range = 0.1,\n",
    "                            width_shift_range = 0.1,\n",
    "                            rotation_range = 10)\n",
    "\n",
    "#Convert Y vectors to categoricals\n",
    "Y_Train = to_categorical(Y_Train)\n",
    "Y_Val = to_categorical(Y_Val)\n",
    "\n",
    "print(Y_Train[1])"
   ]
  },
  {
   "cell_type": "markdown",
   "metadata": {},
   "source": [
    "Now the data is imported as before now to start with the new parts.  Firstly lets build a simple ResNet model with residual blocks.\n",
    "\n",
    "## Residual Architectures\n",
    "\n",
    "As a small primer residual architectures work by adding in 'skip connections'.  This means that after a convolution the original input will be taken and added to the output (if it is a SAME convolution at least).  This has the effect of ensuring that convolutional layers can very easily learn the identity function, meaning that the traditional problem of weight decay/explosion for deeper architectures is significantly mitigated.\n",
    "\n",
    "As our dataset uses small 28x28 pixel input images there is no need for an incredibly deep ResNet like ResNet101 so instead I will use a modification of of ResNet18 with 2 layer residual blocks of the following sizes of NxN (# of filters) - \n",
    "\n",
    "### ResNet 18 Architecture (Original)\n",
    "1. 7x7 (64) x1 ( + 3x3 s=2 MAXPOOL)\n",
    "2. 3x3 (64) x 2 RES\n",
    "3. 3x3 (128) x 2 RES\n",
    "4. 3x3 (256) x 2 RES\n",
    "5. 3x3 (512) x 2 RES (+ 2x2 s=2 AVGPOOL)\n",
    "6. 1000 DENSE\n",
    "7. SOFTMAX\n",
    "\n",
    "### Modified ResNet Architecture\n",
    "1. 7x7 (64) x1 ( + 3x3 s=2 MAXPOOL)\n",
    "2. 3x3 (64) x 2 RES\n",
    "3. 3x3 (128) x 2 RES\n",
    "4. 3x3 (256) x 2 RES (+ 2x2 s=s AVGPOOL)\n",
    "5. 1000 DENSE\n",
    "6. SOFTMAX\n",
    "\n",
    "The deviations from the original implementation are - Removed the final 512 filter layers as the image is too small to convolve further (without modifying the earlier layers to SAME convolutions).\n",
    "\n",
    "The Batch Normalization layers are also removed as they are implemented in the original version to normalize across each of the colour channels, however as the MNIST dataset is greyscale these are not necessary."
   ]
  },
  {
   "cell_type": "code",
   "execution_count": 63,
   "metadata": {},
   "outputs": [],
   "source": [
    "#Simple 2 layer Residual Block with fixed filter/window size\n",
    "def Residual_Block(X, filters, window, s, block) :\n",
    "    \n",
    "    #Define Shortcut layer\n",
    "    X_shortcut = X\n",
    "    \n",
    "    #Conv Layer 1\n",
    "    X = Conv2D(filters, window, strides = (1,1),padding = 'same', name = 'Conv_block_' + block + '_1',\n",
    "                   kernel_initializer = glorot_uniform())(X)\n",
    "    #X = BatchNormalization(name = 'BN_' + block + '_1')(X)\n",
    "    X = Activation('relu')(X)\n",
    "    \n",
    "    #Conv Layer 2\n",
    "    X = Conv2D(filters, window, strides = (s,s), padding = 'valid', name = 'Conv_block_' + block + '_2',\n",
    "                   kernel_initializer = glorot_uniform())(X)\n",
    "    #X = BatchNormalization(name = 'BN_' + block + '_2')(X)\n",
    "    \n",
    "    #Shortcut Layer\n",
    "    X_shortcut = Conv2D(filters, window, strides = (s,s), padding = 'valid', \n",
    "                        name = 'Shortcut_block_' + block + '_3', \n",
    "                        kernel_initializer = glorot_uniform())(X_shortcut)\n",
    "    #X_shortcut = BatchNormalization(name = 'BNSC_' + block + '_3')(X_shortcut)\n",
    "                                    \n",
    "    #Adding Layers                              \n",
    "    X = Add()([X, X_shortcut]) \n",
    "    X = Activation('relu')(X)   \n",
    "    \n",
    "    return X"
   ]
  },
  {
   "cell_type": "markdown",
   "metadata": {},
   "source": [
    "Now to put the blocks into a full model."
   ]
  },
  {
   "cell_type": "code",
   "execution_count": 64,
   "metadata": {},
   "outputs": [],
   "source": [
    "def ResNet_MNIST():\n",
    "    #Input layer\n",
    "    X_input = Input((28,28,1))\n",
    "    \n",
    "    X = ZeroPadding2D((3, 3))(X_input)\n",
    "\n",
    "    #Layer 1\n",
    "    X = Conv2D(64, (7, 7), strides = (1, 1), activation='relu')(X)\n",
    "    X = MaxPool2D(3, 2)(X)\n",
    "    \n",
    "    #Layers 2-5 Residual Blocks\n",
    "    X = Residual_Block(X, 64, (3,3),s=1, block='a')\n",
    "    X = Residual_Block(X, 128, (3,3),s=2, block='b')\n",
    "    X = Residual_Block(X, 256, (3,3),s=2, block='c')\n",
    "    #X = Residual_Block(X, 512, (3,3),s=2, block='d')\n",
    "\n",
    "    #Average Pooling\n",
    "    X = AveragePooling2D()(X)\n",
    "\n",
    "    #Convert to vector for final dense layers\n",
    "    X = Flatten()(X)\n",
    "    \n",
    "    #Adding final dense layers\n",
    "    X = Dense(1000, activation='relu')(X)\n",
    "    \n",
    "    X = Dense(10, activation='softmax')(X)\n",
    "\n",
    "    # Create model\n",
    "    model = Model(inputs = X_input, outputs = X)\n",
    "\n",
    "    return model"
   ]
  },
  {
   "cell_type": "code",
   "execution_count": 23,
   "metadata": {},
   "outputs": [],
   "source": [
    "start_LR = 0.001\n",
    "LR_Decay = 0.95\n",
    "\n",
    "LR_Decayer = LearningRateScheduler(lambda x: start_LR * LR_Decay ** x)"
   ]
  },
  {
   "cell_type": "code",
   "execution_count": 67,
   "metadata": {},
   "outputs": [],
   "source": [
    "resnet_mod = ResNet_MNIST()\n",
    "resnet_mod.compile(optimizer = Adam(start_LR), loss = \"binary_crossentropy\", metrics = [\"accuracy\"])"
   ]
  },
  {
   "cell_type": "code",
   "execution_count": 68,
   "metadata": {},
   "outputs": [
    {
     "name": "stdout",
     "output_type": "stream",
     "text": [
      "Epoch 1/30\n",
      "1000/1000 [==============================] - 24s 24ms/step - loss: 0.0433 - acc: 0.9852 - val_loss: 0.0115 - val_acc: 0.9972\n",
      "Epoch 2/30\n",
      "1000/1000 [==============================] - 22s 22ms/step - loss: 0.0124 - acc: 0.9961 - val_loss: 0.0167 - val_acc: 0.9952\n",
      "Epoch 3/30\n",
      "1000/1000 [==============================] - 22s 22ms/step - loss: 0.0094 - acc: 0.9970 - val_loss: 0.0123 - val_acc: 0.9960\n",
      "Epoch 4/30\n",
      "1000/1000 [==============================] - 22s 22ms/step - loss: 0.0073 - acc: 0.9977 - val_loss: 0.0120 - val_acc: 0.9967\n",
      "Epoch 5/30\n",
      "1000/1000 [==============================] - 23s 23ms/step - loss: 0.0067 - acc: 0.9979 - val_loss: 0.0151 - val_acc: 0.9965\n",
      "Epoch 6/30\n",
      "1000/1000 [==============================] - 23s 23ms/step - loss: 0.0058 - acc: 0.9981 - val_loss: 0.0084 - val_acc: 0.9988\n",
      "Epoch 7/30\n",
      "1000/1000 [==============================] - 23s 23ms/step - loss: 0.0053 - acc: 0.9984 - val_loss: 0.0096 - val_acc: 0.9977\n",
      "Epoch 8/30\n",
      "1000/1000 [==============================] - 22s 22ms/step - loss: 0.0046 - acc: 0.9985 - val_loss: 0.0134 - val_acc: 0.9970\n",
      "Epoch 9/30\n",
      "1000/1000 [==============================] - 23s 23ms/step - loss: 0.0043 - acc: 0.9986 - val_loss: 0.0135 - val_acc: 0.9977\n",
      "Epoch 10/30\n",
      "1000/1000 [==============================] - 22s 22ms/step - loss: 0.0038 - acc: 0.9988 - val_loss: 0.0097 - val_acc: 0.9980\n",
      "Epoch 11/30\n",
      "1000/1000 [==============================] - 22s 22ms/step - loss: 0.0035 - acc: 0.9989 - val_loss: 0.0129 - val_acc: 0.9985\n",
      "Epoch 12/30\n",
      "1000/1000 [==============================] - 22s 22ms/step - loss: 0.0027 - acc: 0.9992 - val_loss: 0.0096 - val_acc: 0.9980\n",
      "Epoch 13/30\n",
      "1000/1000 [==============================] - 22s 22ms/step - loss: 0.0030 - acc: 0.9991 - val_loss: 0.0119 - val_acc: 0.9985\n",
      "Epoch 14/30\n",
      "1000/1000 [==============================] - 22s 22ms/step - loss: 0.0025 - acc: 0.9993 - val_loss: 0.0138 - val_acc: 0.9985\n",
      "Epoch 15/30\n",
      "1000/1000 [==============================] - 22s 22ms/step - loss: 0.0022 - acc: 0.9993 - val_loss: 0.0139 - val_acc: 0.9975\n",
      "Epoch 16/30\n",
      "1000/1000 [==============================] - 22s 22ms/step - loss: 0.0021 - acc: 0.9993 - val_loss: 0.0115 - val_acc: 0.9985\n",
      "Epoch 17/30\n",
      "1000/1000 [==============================] - 23s 23ms/step - loss: 0.0019 - acc: 0.9994 - val_loss: 0.0110 - val_acc: 0.9980\n",
      "Epoch 18/30\n",
      "1000/1000 [==============================] - 22s 22ms/step - loss: 0.0019 - acc: 0.9994 - val_loss: 0.0103 - val_acc: 0.9980\n",
      "Epoch 19/30\n",
      "1000/1000 [==============================] - 24s 24ms/step - loss: 0.0018 - acc: 0.9994 - val_loss: 0.0111 - val_acc: 0.9985\n",
      "Epoch 20/30\n",
      "1000/1000 [==============================] - 23s 23ms/step - loss: 0.0014 - acc: 0.9996 - val_loss: 0.0099 - val_acc: 0.9985\n",
      "Epoch 21/30\n",
      "1000/1000 [==============================] - 22s 22ms/step - loss: 0.0014 - acc: 0.9996 - val_loss: 0.0123 - val_acc: 0.9985\n",
      "Epoch 22/30\n",
      "1000/1000 [==============================] - 22s 22ms/step - loss: 0.0014 - acc: 0.9995 - val_loss: 0.0105 - val_acc: 0.9990\n",
      "Epoch 23/30\n",
      "1000/1000 [==============================] - 23s 23ms/step - loss: 0.0012 - acc: 0.9996 - val_loss: 0.0133 - val_acc: 0.9985\n",
      "Epoch 24/30\n",
      "1000/1000 [==============================] - 25s 25ms/step - loss: 0.0012 - acc: 0.9996 - val_loss: 0.0117 - val_acc: 0.9985\n",
      "Epoch 25/30\n",
      "1000/1000 [==============================] - 24s 24ms/step - loss: 0.0011 - acc: 0.9997 - val_loss: 0.0115 - val_acc: 0.9990\n",
      "Epoch 26/30\n",
      "1000/1000 [==============================] - 23s 23ms/step - loss: 8.7120e-04 - acc: 0.9997 - val_loss: 0.0149 - val_acc: 0.9985\n",
      "Epoch 27/30\n",
      "1000/1000 [==============================] - 25s 25ms/step - loss: 0.0010 - acc: 0.9997 - val_loss: 0.0097 - val_acc: 0.9985\n",
      "Epoch 28/30\n",
      "1000/1000 [==============================] - 25s 25ms/step - loss: 9.4228e-04 - acc: 0.9997 - val_loss: 0.0141 - val_acc: 0.9985\n",
      "Epoch 29/30\n",
      "1000/1000 [==============================] - 25s 25ms/step - loss: 7.0008e-04 - acc: 0.9998 - val_loss: 0.0144 - val_acc: 0.9980\n",
      "Epoch 30/30\n",
      "1000/1000 [==============================] - 25s 25ms/step - loss: 6.3724e-04 - acc: 0.9998 - val_loss: 0.0116 - val_acc: 0.9990\n"
     ]
    }
   ],
   "source": [
    "hist = resnet_mod.fit_generator(datagen.flow(X_Train, Y_Train, batch_size=64),\n",
    "                           steps_per_epoch=1000,\n",
    "                           epochs=30,\n",
    "                           verbose=1,  #1 for ETA, 0 for silent\n",
    "                           validation_data=(X_Val[:400,:], Y_Val[:400,:]),\n",
    "                           callbacks=[LR_Decayer])"
   ]
  },
  {
   "cell_type": "code",
   "execution_count": 69,
   "metadata": {},
   "outputs": [],
   "source": [
    "final_loss, final_acc = resnet_mod.evaluate(X_Val, Y_Val, verbose=0)"
   ]
  },
  {
   "cell_type": "code",
   "execution_count": 70,
   "metadata": {},
   "outputs": [
    {
     "name": "stdout",
     "output_type": "stream",
     "text": [
      "Final Validation Loss =  0.005316321808003322\n",
      "Final Validation Accuracy =  0.9993333307902018\n"
     ]
    }
   ],
   "source": [
    "print('Final Validation Loss = ', final_loss)\n",
    "print('Final Validation Accuracy = ', final_acc)"
   ]
  },
  {
   "cell_type": "markdown",
   "metadata": {},
   "source": [
    "So now we have a model let's analyse the errors."
   ]
  },
  {
   "cell_type": "code",
   "execution_count": 71,
   "metadata": {},
   "outputs": [],
   "source": [
    "Y_hat_val = resnet_mod.predict(X_Val)"
   ]
  },
  {
   "cell_type": "code",
   "execution_count": 72,
   "metadata": {},
   "outputs": [],
   "source": [
    "# Convert predictions classes to one hot vectors \n",
    "Y_hat_classes = np.argmax(Y_hat_val, axis = 1) \n",
    "# Convert validation observations to one hot vectors\n",
    "Y_val_classes = np.argmax(Y_Val, axis = 1) "
   ]
  },
  {
   "cell_type": "code",
   "execution_count": 73,
   "metadata": {},
   "outputs": [
    {
     "data": {
      "image/png": "[encoded data removed]",
      "text/plain": [
       "<Figure size 432x288 with 2 Axes>"
      ]
     },
     "metadata": {},
     "output_type": "display_data"
    }
   ],
   "source": [
    "#This code taken almost direct from a source, who attained it from SK Learn website\n",
    "def plot_confusion_matrix(cm, classes,\n",
    "                          normalize=False,\n",
    "                          title='Confusion matrix',\n",
    "                          cmap=plt.cm.Blues):\n",
    "    \"\"\"\n",
    "    This function prints and plots the confusion matrix.\n",
    "    Normalization can be applied by setting `normalize=True`.\n",
    "    \"\"\"\n",
    "    plt.imshow(cm, interpolation='nearest', cmap=cmap)\n",
    "    plt.title(title)\n",
    "    plt.colorbar()\n",
    "    tick_marks = np.arange(len(classes))\n",
    "    plt.xticks(tick_marks, classes, rotation=45)\n",
    "    plt.yticks(tick_marks, classes)\n",
    "\n",
    "    if normalize:\n",
    "        cm = cm.astype('float') / cm.sum(axis=1)[:, np.newaxis]\n",
    "\n",
    "    thresh = cm.max() / 2.\n",
    "    for i, j in itertools.product(range(cm.shape[0]), range(cm.shape[1])):\n",
    "        plt.text(j, i, cm[i, j],\n",
    "                 horizontalalignment=\"center\",\n",
    "                 color=\"white\" if cm[i, j] > thresh else \"black\")\n",
    "\n",
    "    plt.tight_layout()\n",
    "    plt.ylabel('True label')\n",
    "    plt.xlabel('Predicted label')\n",
    "\n",
    "    \n",
    "# compute the confusion matrix\n",
    "confusion_mtx = confusion_matrix(Y_val_classes, Y_hat_classes) \n",
    "# plot the confusion matrix\n",
    "plot_confusion_matrix(confusion_mtx, classes = range(10))"
   ]
  },
  {
   "cell_type": "markdown",
   "metadata": {},
   "source": [
    "So this when trained on a good number of epochs is a marked improvement at least in validation, despite when trained on fewer epochs being noticably worse.  Let's submit and see how it does."
   ]
  },
  {
   "cell_type": "code",
   "execution_count": 54,
   "metadata": {},
   "outputs": [],
   "source": [
    "sample_sub = pd.read_csv(os.path.join(DATA_FOLDER, 'sample_submission.csv'))"
   ]
  },
  {
   "cell_type": "code",
   "execution_count": 74,
   "metadata": {},
   "outputs": [],
   "source": [
    "y_out = resnet_mod.predict(X_test)"
   ]
  },
  {
   "cell_type": "code",
   "execution_count": 76,
   "metadata": {},
   "outputs": [],
   "source": [
    "Y_out_classes = np.argmax(y_out, axis = 1) \n",
    "sample_sub['Label'] = Y_out_classes"
   ]
  },
  {
   "cell_type": "code",
   "execution_count": 77,
   "metadata": {},
   "outputs": [],
   "source": [
    "sample_sub.to_csv('test_mnist_sub.csv', index=False)"
   ]
  },
  {
   "cell_type": "markdown",
   "metadata": {},
   "source": [
    "As it happened it scored 99.5% which is remarkably close to state of the art performance.  This model architecture probably get a better score with some regularization and basic ensembling, maybe even up to state of the art performance.\n",
    "\n",
    "However let's move on to the logical evolution of this architecture - Inception Nets.\n",
    "\n",
    "## Inception Blocks\n",
    "\n",
    "The motivation for inception blocks is to increase the representational power of each of the residual blocks introduced by ResNet.  In order to do this the initial idea was to utilize multiple different convolutional filters (eg 7x7 and 5x5 and 3x3) and concatenating them together.  However this was later refined to using stacks of 3x3 convolutions as they are more computationally efficient but still have the same representative power.  This was later even further refined by using 1xn and nx1 convolutions and combining multiple different blocks together (see https://arxiv.org/pdf/1602.07261.pdf ).\n",
    "\n",
    "The key difference to note here is that inception uses concatenations of the different filters for the reductions wheras ResNet uses addition layers.\n",
    "\n",
    "As this project is relatively small and computationally simple to learn I will stick to a simple implementation of the typical reduction block used in Inception v2 onwards.\n",
    "\n",
    "I will also use the same stem as I used in the mini-ResNet above as opposed to the deeper stem used in the original paper, equivalently I will also use the same output blocks as the ResNet inspired model, as well as only using 2 Inception blocks (due to dimensionality reduction).  I will also use fewer filters than used in the Inception v4 implementation in order to keep the number of trainable parameters to be roughly comparable.\n",
    "\n",
    "### Block Used\n",
    "#### Path 1\n",
    "1. 3x3 MAXPOOL\n",
    "\n",
    "#### Path 2\n",
    "1. 3x3 Conv\n",
    "\n",
    "#### Path 3\n",
    "1. 1x1 Conv\n",
    "2. 3x3 Conv\n",
    "3. 3x3 Conv\n",
    "\n",
    "Followed by a concatenation of all of the paths combined."
   ]
  },
  {
   "cell_type": "code",
   "execution_count": 41,
   "metadata": {},
   "outputs": [],
   "source": [
    "#Implementation of Reduction Block a from Inception v4\n",
    "def Inception_Block(X, block) :\n",
    "    \n",
    "    #Define Branches\n",
    "    X_1 = X\n",
    "    X_2 = X\n",
    "    X_3 = X\n",
    "    \n",
    "    #Branch 1\n",
    "    X_1 = MaxPool2D(pool_size=(3, 3), strides = 2 , padding='valid')(X_1)\n",
    "\n",
    "    #Branch 2\n",
    "    X_2 = Conv2D(256, (3, 3), strides=2, padding='valid', name='Incep_block_' + block + '_b2a')(X_2)\n",
    "    \n",
    "    #Branch 3\n",
    "    X_3 = Conv2D(64, (1, 1), padding='same', name='Incep_block_' + block + '_b3a')(X_3)\n",
    "    X_3 = Conv2D(96, (3, 3), padding='same', name='Incep_block_' + block + '_b3b')(X_3)\n",
    "    X_3 = Conv2D(128, (3, 3), strides=2, padding='valid', name='Incep_block_' + block + '_b3c')(X_3)\n",
    "    \n",
    "    #Concatenating branches\n",
    "    X = Concatenate(axis=3)([X_1, X_2, X_3])\n",
    "    \n",
    "    #Applying Non-linearity\n",
    "    X = Activation('relu')(X)   \n",
    "    \n",
    "    return X"
   ]
  },
  {
   "cell_type": "code",
   "execution_count": 42,
   "metadata": {},
   "outputs": [],
   "source": [
    "def Inception_MNIST():\n",
    "    #Input layer\n",
    "    X_input = Input((28,28,1))\n",
    "    \n",
    "    X = ZeroPadding2D((3, 3))(X_input)\n",
    "\n",
    "    #Layer 1\n",
    "    X = Conv2D(64, (7, 7), strides = (1, 1), activation='relu')(X)\n",
    "    X = MaxPool2D(3, 2)(X)\n",
    "    \n",
    "    #Inception Blocks\n",
    "    X = Inception_Block(X, block='a')\n",
    "    X = Inception_Block(X, block='b')\n",
    "\n",
    "    #Average Pooling\n",
    "    X = AveragePooling2D()(X)\n",
    "\n",
    "    #Convert to vector for final dense layers\n",
    "    X = Flatten()(X)\n",
    "    \n",
    "    #Adding final dense layers\n",
    "    X = Dense(1000, activation='relu')(X)\n",
    "    \n",
    "    X = Dense(10, activation='softmax')(X)\n",
    "\n",
    "    # Create model\n",
    "    model = Model(inputs = X_input, outputs = X)\n",
    "\n",
    "    return model"
   ]
  },
  {
   "cell_type": "code",
   "execution_count": 43,
   "metadata": {},
   "outputs": [],
   "source": [
    "inception_mod = Inception_MNIST()\n",
    "inception_mod.compile(optimizer = Adam(start_LR), loss = \"binary_crossentropy\", metrics = [\"accuracy\"])"
   ]
  },
  {
   "cell_type": "code",
   "execution_count": 46,
   "metadata": {},
   "outputs": [
    {
     "name": "stdout",
     "output_type": "stream",
     "text": [
      "Epoch 1/30\n",
      "1000/1000 [==============================] - 58s 58ms/step - loss: 0.0377 - acc: 0.9870 - val_loss: 0.0209 - val_acc: 0.9945\n",
      "Epoch 2/30\n",
      "1000/1000 [==============================] - 22s 22ms/step - loss: 0.0126 - acc: 0.9957 - val_loss: 0.0118 - val_acc: 0.9968\n",
      "Epoch 3/30\n",
      "1000/1000 [==============================] - 22s 22ms/step - loss: 0.0101 - acc: 0.9966 - val_loss: 0.0080 - val_acc: 0.9972\n",
      "Epoch 4/30\n",
      "1000/1000 [==============================] - 22s 22ms/step - loss: 0.0087 - acc: 0.9971 - val_loss: 0.0147 - val_acc: 0.9972\n",
      "Epoch 5/30\n",
      "1000/1000 [==============================] - 22s 22ms/step - loss: 0.0078 - acc: 0.9974 - val_loss: 0.0147 - val_acc: 0.9973\n",
      "Epoch 6/30\n",
      "1000/1000 [==============================] - 22s 22ms/step - loss: 0.0072 - acc: 0.9976 - val_loss: 0.0100 - val_acc: 0.9980\n",
      "Epoch 7/30\n",
      "1000/1000 [==============================] - 22s 22ms/step - loss: 0.0062 - acc: 0.9979 - val_loss: 0.0085 - val_acc: 0.9972\n",
      "Epoch 8/30\n",
      "1000/1000 [==============================] - 22s 22ms/step - loss: 0.0059 - acc: 0.9981 - val_loss: 0.0086 - val_acc: 0.9970\n",
      "Epoch 9/30\n",
      "1000/1000 [==============================] - 22s 22ms/step - loss: 0.0050 - acc: 0.9983 - val_loss: 0.0081 - val_acc: 0.9980\n",
      "Epoch 10/30\n",
      "1000/1000 [==============================] - 22s 22ms/step - loss: 0.0046 - acc: 0.9985 - val_loss: 0.0095 - val_acc: 0.9980\n",
      "Epoch 11/30\n",
      "1000/1000 [==============================] - 22s 22ms/step - loss: 0.0043 - acc: 0.9986 - val_loss: 0.0085 - val_acc: 0.9982\n",
      "Epoch 12/30\n",
      "1000/1000 [==============================] - 22s 22ms/step - loss: 0.0038 - acc: 0.9987 - val_loss: 0.0068 - val_acc: 0.9975\n",
      "Epoch 13/30\n",
      "1000/1000 [==============================] - 22s 22ms/step - loss: 0.0039 - acc: 0.9987 - val_loss: 0.0069 - val_acc: 0.9975\n",
      "Epoch 14/30\n",
      "1000/1000 [==============================] - 22s 22ms/step - loss: 0.0036 - acc: 0.9989 - val_loss: 0.0058 - val_acc: 0.9985\n",
      "Epoch 15/30\n",
      "1000/1000 [==============================] - 21s 21ms/step - loss: 0.0030 - acc: 0.9990 - val_loss: 0.0067 - val_acc: 0.9990\n",
      "Epoch 16/30\n",
      "1000/1000 [==============================] - 21s 21ms/step - loss: 0.0031 - acc: 0.9989 - val_loss: 0.0110 - val_acc: 0.9975\n",
      "Epoch 17/30\n",
      "1000/1000 [==============================] - 21s 21ms/step - loss: 0.0027 - acc: 0.9991 - val_loss: 0.0121 - val_acc: 0.9975\n",
      "Epoch 18/30\n",
      "1000/1000 [==============================] - 21s 21ms/step - loss: 0.0026 - acc: 0.9991 - val_loss: 0.0068 - val_acc: 0.9995\n",
      "Epoch 19/30\n",
      "1000/1000 [==============================] - 21s 21ms/step - loss: 0.0023 - acc: 0.9993 - val_loss: 0.0155 - val_acc: 0.9965\n",
      "Epoch 20/30\n",
      "1000/1000 [==============================] - 21s 21ms/step - loss: 0.0024 - acc: 0.9992 - val_loss: 0.0073 - val_acc: 0.9980\n",
      "Epoch 21/30\n",
      "1000/1000 [==============================] - 21s 21ms/step - loss: 0.0018 - acc: 0.9994 - val_loss: 0.0082 - val_acc: 0.9980\n",
      "Epoch 22/30\n",
      "1000/1000 [==============================] - 21s 21ms/step - loss: 0.0019 - acc: 0.9994 - val_loss: 0.0058 - val_acc: 0.9995\n",
      "Epoch 23/30\n",
      "1000/1000 [==============================] - 21s 21ms/step - loss: 0.0019 - acc: 0.9994 - val_loss: 0.0087 - val_acc: 0.9980\n",
      "Epoch 24/30\n",
      "1000/1000 [==============================] - 21s 21ms/step - loss: 0.0016 - acc: 0.9995 - val_loss: 0.0100 - val_acc: 0.9990\n",
      "Epoch 25/30\n",
      "1000/1000 [==============================] - 21s 21ms/step - loss: 0.0019 - acc: 0.9994 - val_loss: 0.0105 - val_acc: 0.9985\n",
      "Epoch 26/30\n",
      "1000/1000 [==============================] - 21s 21ms/step - loss: 0.0013 - acc: 0.9996 - val_loss: 0.0081 - val_acc: 0.9995\n",
      "Epoch 27/30\n",
      "1000/1000 [==============================] - 21s 21ms/step - loss: 0.0012 - acc: 0.9996 - val_loss: 0.0113 - val_acc: 0.9985\n",
      "Epoch 28/30\n",
      "1000/1000 [==============================] - 22s 22ms/step - loss: 0.0015 - acc: 0.9995 - val_loss: 0.0103 - val_acc: 0.9985\n",
      "Epoch 29/30\n",
      "1000/1000 [==============================] - 23s 23ms/step - loss: 0.0011 - acc: 0.9996 - val_loss: 0.0102 - val_acc: 0.9990\n",
      "Epoch 30/30\n",
      "1000/1000 [==============================] - 22s 22ms/step - loss: 0.0010 - acc: 0.9997 - val_loss: 0.0087 - val_acc: 0.9990\n"
     ]
    }
   ],
   "source": [
    "hist2 = inception_mod.fit_generator(datagen.flow(X_Train, Y_Train, batch_size=64),\n",
    "                           steps_per_epoch=1000,\n",
    "                           epochs=30,\n",
    "                           verbose=1,  #1 for ETA, 0 for silent\n",
    "                           validation_data=(X_Val[:400,:], Y_Val[:400,:]),\n",
    "                           callbacks=[LR_Decayer])"
   ]
  },
  {
   "cell_type": "code",
   "execution_count": 47,
   "metadata": {},
   "outputs": [],
   "source": [
    "incep_loss, incep_acc = inception_mod.evaluate(X_Val, Y_Val, verbose=0)"
   ]
  },
  {
   "cell_type": "code",
   "execution_count": 48,
   "metadata": {},
   "outputs": [
    {
     "name": "stdout",
     "output_type": "stream",
     "text": [
      "Final Validation Loss =  0.005637252022734878\n",
      "Final Validation Accuracy =  0.9987142826261974\n"
     ]
    }
   ],
   "source": [
    "print('Final Validation Loss = ', incep_loss)\n",
    "print('Final Validation Accuracy = ', incep_acc)"
   ]
  },
  {
   "cell_type": "code",
   "execution_count": 50,
   "metadata": {},
   "outputs": [],
   "source": [
    "Y_hat_val = inception_mod.predict(X_Val)"
   ]
  },
  {
   "cell_type": "code",
   "execution_count": 53,
   "metadata": {},
   "outputs": [
    {
     "data": {
      "image/png": "[encoded data removed]",
      "text/plain": [
       "<Figure size 432x288 with 2 Axes>"
      ]
     },
     "metadata": {},
     "output_type": "display_data"
    }
   ],
   "source": [
    "# Convert predictions classes to one hot vectors \n",
    "Y_hat_classes = np.argmax(Y_hat_val, axis = 1) \n",
    "# Convert validation observations to one hot vectors\n",
    "Y_val_classes = np.argmax(Y_Val, axis = 1) \n",
    "    \n",
    "# compute the confusion matrix\n",
    "confusion_mtx = confusion_matrix(Y_val_classes, Y_hat_classes) \n",
    "# plot the confusion matrix\n",
    "plot_confusion_matrix(confusion_mtx, classes = range(10))"
   ]
  },
  {
   "cell_type": "markdown",
   "metadata": {},
   "source": [
    "This has very very comparable performance to the ResNet model implemented previously, so let's see how it does on submission."
   ]
  },
  {
   "cell_type": "code",
   "execution_count": 55,
   "metadata": {},
   "outputs": [],
   "source": [
    "y_out = inception_mod.predict(X_test)"
   ]
  },
  {
   "cell_type": "code",
   "execution_count": 57,
   "metadata": {},
   "outputs": [],
   "source": [
    "Y_out_classes = np.argmax(y_out, axis = 1) \n",
    "sample_sub['Label'] = Y_out_classes"
   ]
  },
  {
   "cell_type": "code",
   "execution_count": 58,
   "metadata": {},
   "outputs": [],
   "source": [
    "sample_sub.to_csv('test_mnist_sub.csv', index=False)"
   ]
  },
  {
   "cell_type": "markdown",
   "metadata": {},
   "source": [
    "As the validation shown this model had very similar performance to the ResNet inspired model but just slightly behind with a score of 99.4%.  This is likely attributable to the fact this network has 1 less block, however this is within the margin for error so for all intents and purposes the models are effectively equivalent.\n",
    "\n",
    "\n",
    "Overall from this notebook I am confident in accurately implementing extensions of the above architectures for larger and more advanced challenges, so with that I am very happy with how this went.\n",
    "\n",
    "For fun below is a log of every submission I made along with the model architecture summaries."
   ]
  },
  {
   "cell_type": "markdown",
   "metadata": {},
   "source": [
    "##  Test Submissions\n",
    "\n",
    "#### Batch Size = 8, Images per epoch = 500\n",
    "* ResNet(No BN, 10 epochs) = 0.97814\n",
    "* ResNet (With BN, 10 epochs) = 0.97357\n",
    "\n",
    "### Batch Size = 64, Images per epoch = 1000\n",
    "* ResNet (No BN, 30 epochs) = 0.99514\n",
    "* Inception (30 epochs) = 0.99471\n"
   ]
  },
  {
   "cell_type": "code",
   "execution_count": 78,
   "metadata": {},
   "outputs": [
    {
     "name": "stdout",
     "output_type": "stream",
     "text": [
      "__________________________________________________________________________________________________\n",
      "Layer (type)                    Output Shape         Param #     Connected to                     \n",
      "==================================================================================================\n",
      "input_11 (InputLayer)           (None, 28, 28, 1)    0                                            \n",
      "__________________________________________________________________________________________________\n",
      "zero_padding2d_11 (ZeroPadding2 (None, 34, 34, 1)    0           input_11[0][0]                   \n",
      "__________________________________________________________________________________________________\n",
      "conv2d_11 (Conv2D)              (None, 28, 28, 64)   3200        zero_padding2d_11[0][0]          \n",
      "__________________________________________________________________________________________________\n",
      "max_pooling2d_11 (MaxPooling2D) (None, 13, 13, 64)   0           conv2d_11[0][0]                  \n",
      "__________________________________________________________________________________________________\n",
      "Conv_block_a_1 (Conv2D)         (None, 13, 13, 64)   36928       max_pooling2d_11[0][0]           \n",
      "__________________________________________________________________________________________________\n",
      "activation_42 (Activation)      (None, 13, 13, 64)   0           Conv_block_a_1[0][0]             \n",
      "__________________________________________________________________________________________________\n",
      "Conv_block_a_2 (Conv2D)         (None, 11, 11, 64)   36928       activation_42[0][0]              \n",
      "__________________________________________________________________________________________________\n",
      "Shortcut_block_a_3 (Conv2D)     (None, 11, 11, 64)   36928       max_pooling2d_11[0][0]           \n",
      "__________________________________________________________________________________________________\n",
      "add_21 (Add)                    (None, 11, 11, 64)   0           Conv_block_a_2[0][0]             \n",
      "                                                                 Shortcut_block_a_3[0][0]         \n",
      "__________________________________________________________________________________________________\n",
      "activation_43 (Activation)      (None, 11, 11, 64)   0           add_21[0][0]                     \n",
      "__________________________________________________________________________________________________\n",
      "Conv_block_b_1 (Conv2D)         (None, 11, 11, 128)  73856       activation_43[0][0]              \n",
      "__________________________________________________________________________________________________\n",
      "activation_44 (Activation)      (None, 11, 11, 128)  0           Conv_block_b_1[0][0]             \n",
      "__________________________________________________________________________________________________\n",
      "Conv_block_b_2 (Conv2D)         (None, 5, 5, 128)    147584      activation_44[0][0]              \n",
      "__________________________________________________________________________________________________\n",
      "Shortcut_block_b_3 (Conv2D)     (None, 5, 5, 128)    73856       activation_43[0][0]              \n",
      "__________________________________________________________________________________________________\n",
      "add_22 (Add)                    (None, 5, 5, 128)    0           Conv_block_b_2[0][0]             \n",
      "                                                                 Shortcut_block_b_3[0][0]         \n",
      "__________________________________________________________________________________________________\n",
      "activation_45 (Activation)      (None, 5, 5, 128)    0           add_22[0][0]                     \n",
      "__________________________________________________________________________________________________\n",
      "Conv_block_c_1 (Conv2D)         (None, 5, 5, 256)    295168      activation_45[0][0]              \n",
      "__________________________________________________________________________________________________\n",
      "activation_46 (Activation)      (None, 5, 5, 256)    0           Conv_block_c_1[0][0]             \n",
      "__________________________________________________________________________________________________\n",
      "Conv_block_c_2 (Conv2D)         (None, 2, 2, 256)    590080      activation_46[0][0]              \n",
      "__________________________________________________________________________________________________\n",
      "Shortcut_block_c_3 (Conv2D)     (None, 2, 2, 256)    295168      activation_45[0][0]              \n",
      "__________________________________________________________________________________________________\n",
      "add_23 (Add)                    (None, 2, 2, 256)    0           Conv_block_c_2[0][0]             \n",
      "                                                                 Shortcut_block_c_3[0][0]         \n",
      "__________________________________________________________________________________________________\n",
      "activation_47 (Activation)      (None, 2, 2, 256)    0           add_23[0][0]                     \n",
      "__________________________________________________________________________________________________\n",
      "average_pooling2d_6 (AveragePoo (None, 1, 1, 256)    0           activation_47[0][0]              \n",
      "__________________________________________________________________________________________________\n",
      "flatten_5 (Flatten)             (None, 256)          0           average_pooling2d_6[0][0]        \n",
      "__________________________________________________________________________________________________\n",
      "dense_9 (Dense)                 (None, 1000)         257000      flatten_5[0][0]                  \n",
      "__________________________________________________________________________________________________\n",
      "dense_10 (Dense)                (None, 10)           10010       dense_9[0][0]                    \n",
      "==================================================================================================\n",
      "Total params: 1,856,706\n",
      "Trainable params: 1,856,706\n",
      "Non-trainable params: 0\n",
      "__________________________________________________________________________________________________\n"
     ]
    }
   ],
   "source": [
    "resnet_mod.summary()"
   ]
  },
  {
   "cell_type": "code",
   "execution_count": 56,
   "metadata": {},
   "outputs": [
    {
     "name": "stdout",
     "output_type": "stream",
     "text": [
      "__________________________________________________________________________________________________\n",
      "Layer (type)                    Output Shape         Param #     Connected to                     \n",
      "==================================================================================================\n",
      "input_12 (InputLayer)           (None, 28, 28, 1)    0                                            \n",
      "__________________________________________________________________________________________________\n",
      "zero_padding2d_10 (ZeroPadding2 (None, 34, 34, 1)    0           input_12[0][0]                   \n",
      "__________________________________________________________________________________________________\n",
      "conv2d_10 (Conv2D)              (None, 28, 28, 64)   3200        zero_padding2d_10[0][0]          \n",
      "__________________________________________________________________________________________________\n",
      "max_pooling2d_30 (MaxPooling2D) (None, 13, 13, 64)   0           conv2d_10[0][0]                  \n",
      "__________________________________________________________________________________________________\n",
      "Incep_block_a_b3a (Conv2D)      (None, 13, 13, 64)   4160        max_pooling2d_30[0][0]           \n",
      "__________________________________________________________________________________________________\n",
      "Incep_block_a_b3b (Conv2D)      (None, 13, 13, 96)   55392       Incep_block_a_b3a[0][0]          \n",
      "__________________________________________________________________________________________________\n",
      "max_pooling2d_31 (MaxPooling2D) (None, 6, 6, 64)     0           max_pooling2d_30[0][0]           \n",
      "__________________________________________________________________________________________________\n",
      "Incep_block_a_b2a (Conv2D)      (None, 6, 6, 256)    147712      max_pooling2d_30[0][0]           \n",
      "__________________________________________________________________________________________________\n",
      "Incep_block_a_b3c (Conv2D)      (None, 6, 6, 128)    110720      Incep_block_a_b3b[0][0]          \n",
      "__________________________________________________________________________________________________\n",
      "concatenate_20 (Concatenate)    (None, 6, 6, 448)    0           max_pooling2d_31[0][0]           \n",
      "                                                                 Incep_block_a_b2a[0][0]          \n",
      "                                                                 Incep_block_a_b3c[0][0]          \n",
      "__________________________________________________________________________________________________\n",
      "activation_17 (Activation)      (None, 6, 6, 448)    0           concatenate_20[0][0]             \n",
      "__________________________________________________________________________________________________\n",
      "Incep_block_b_b3a (Conv2D)      (None, 6, 6, 64)     28736       activation_17[0][0]              \n",
      "__________________________________________________________________________________________________\n",
      "Incep_block_b_b3b (Conv2D)      (None, 6, 6, 96)     55392       Incep_block_b_b3a[0][0]          \n",
      "__________________________________________________________________________________________________\n",
      "max_pooling2d_32 (MaxPooling2D) (None, 2, 2, 448)    0           activation_17[0][0]              \n",
      "__________________________________________________________________________________________________\n",
      "Incep_block_b_b2a (Conv2D)      (None, 2, 2, 256)    1032448     activation_17[0][0]              \n",
      "__________________________________________________________________________________________________\n",
      "Incep_block_b_b3c (Conv2D)      (None, 2, 2, 128)    110720      Incep_block_b_b3b[0][0]          \n",
      "__________________________________________________________________________________________________\n",
      "concatenate_21 (Concatenate)    (None, 2, 2, 832)    0           max_pooling2d_32[0][0]           \n",
      "                                                                 Incep_block_b_b2a[0][0]          \n",
      "                                                                 Incep_block_b_b3c[0][0]          \n",
      "__________________________________________________________________________________________________\n",
      "activation_18 (Activation)      (None, 2, 2, 832)    0           concatenate_21[0][0]             \n",
      "__________________________________________________________________________________________________\n",
      "average_pooling2d_7 (AveragePoo (None, 1, 1, 832)    0           activation_18[0][0]              \n",
      "__________________________________________________________________________________________________\n",
      "flatten_7 (Flatten)             (None, 832)          0           average_pooling2d_7[0][0]        \n",
      "__________________________________________________________________________________________________\n",
      "dense_13 (Dense)                (None, 1000)         833000      flatten_7[0][0]                  \n",
      "__________________________________________________________________________________________________\n",
      "dense_14 (Dense)                (None, 10)           10010       dense_13[0][0]                   \n",
      "==================================================================================================\n",
      "Total params: 2,391,490\n",
      "Trainable params: 2,391,490\n",
      "Non-trainable params: 0\n",
      "__________________________________________________________________________________________________\n"
     ]
    }
   ],
   "source": [
    "inception_mod.summary()"
   ]
  },
  {
   "cell_type": "code",
   "execution_count": null,
   "metadata": {},
   "outputs": [],
   "source": []
  }
 ],
 "metadata": {
  "kernelspec": {
   "display_name": "Python 3",
   "language": "python",
   "name": "python3"
  },
  "language_info": {
   "codemirror_mode": {
    "name": "ipython",
    "version": 3
   },
   "file_extension": ".py",
   "mimetype": "text/x-python",
   "name": "python",
   "nbconvert_exporter": "python",
   "pygments_lexer": "ipython3",
   "version": "3.6.6"
  }
 },
 "nbformat": 4,
 "nbformat_minor": 2
}
